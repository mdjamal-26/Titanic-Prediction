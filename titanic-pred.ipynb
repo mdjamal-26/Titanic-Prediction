{
 "cells": [
  {
   "cell_type": "code",
   "execution_count": 1,
   "id": "c903d78f",
   "metadata": {
    "_cell_guid": "b1076dfc-b9ad-4769-8c92-a6c4dae69d19",
    "_uuid": "8f2839f25d086af736a60e9eeb907d3b93b6e0e5",
    "execution": {
     "iopub.execute_input": "2025-09-03T06:39:08.977947Z",
     "iopub.status.busy": "2025-09-03T06:39:08.977540Z",
     "iopub.status.idle": "2025-09-03T06:39:11.154408Z",
     "shell.execute_reply": "2025-09-03T06:39:11.153255Z"
    },
    "papermill": {
     "duration": 2.189696,
     "end_time": "2025-09-03T06:39:11.156466",
     "exception": false,
     "start_time": "2025-09-03T06:39:08.966770",
     "status": "completed"
    },
    "tags": []
   },
   "outputs": [
    {
     "name": "stdout",
     "output_type": "stream",
     "text": [
      "/kaggle/input/titanic/train.csv\n",
      "/kaggle/input/titanic/test.csv\n",
      "/kaggle/input/titanic/gender_submission.csv\n"
     ]
    }
   ],
   "source": [
    "# This Python 3 environment comes with many helpful analytics libraries installed\n",
    "# It is defined by the kaggle/python Docker image: https://github.com/kaggle/docker-python\n",
    "# For example, here's several helpful packages to load\n",
    "\n",
    "import numpy as np # linear algebra\n",
    "import pandas as pd # data processing, CSV file I/O (e.g. pd.read_csv)\n",
    "\n",
    "# Input data files are available in the read-only \"../input/\" directory\n",
    "# For example, running this (by clicking run or pressing Shift+Enter) will list all files under the input directory\n",
    "\n",
    "import os\n",
    "for dirname, _, filenames in os.walk('/kaggle/input'):\n",
    "    for filename in filenames:\n",
    "        print(os.path.join(dirname, filename))\n",
    "\n",
    "# You can write up to 20GB to the current directory (/kaggle/working/) that gets preserved as output when you create a version using \"Save & Run All\" \n",
    "# You can also write temporary files to /kaggle/temp/, but they won't be saved outside of the current session"
   ]
  },
  {
   "cell_type": "markdown",
   "id": "1a8714fa",
   "metadata": {
    "papermill": {
     "duration": 0.007282,
     "end_time": "2025-09-03T06:39:11.171670",
     "exception": false,
     "start_time": "2025-09-03T06:39:11.164388",
     "status": "completed"
    },
    "tags": []
   },
   "source": [
    "## Loading the Dataset"
   ]
  },
  {
   "cell_type": "code",
   "execution_count": 2,
   "id": "0c516cf1",
   "metadata": {
    "execution": {
     "iopub.execute_input": "2025-09-03T06:39:11.190095Z",
     "iopub.status.busy": "2025-09-03T06:39:11.189681Z",
     "iopub.status.idle": "2025-09-03T06:39:11.237566Z",
     "shell.execute_reply": "2025-09-03T06:39:11.236381Z"
    },
    "papermill": {
     "duration": 0.058712,
     "end_time": "2025-09-03T06:39:11.239571",
     "exception": false,
     "start_time": "2025-09-03T06:39:11.180859",
     "status": "completed"
    },
    "tags": []
   },
   "outputs": [],
   "source": [
    "import pandas as pd\n",
    "\n",
    "df = pd.read_csv(\"/kaggle/input/titanic/train.csv\")\n",
    "test = pd.read_csv(\"/kaggle/input/titanic/test.csv\")\n",
    "gender = pd.read_csv(\"/kaggle/input/titanic/gender_submission.csv\")"
   ]
  },
  {
   "cell_type": "code",
   "execution_count": 3,
   "id": "a5922a2b",
   "metadata": {
    "execution": {
     "iopub.execute_input": "2025-09-03T06:39:11.257372Z",
     "iopub.status.busy": "2025-09-03T06:39:11.256876Z",
     "iopub.status.idle": "2025-09-03T06:39:11.286556Z",
     "shell.execute_reply": "2025-09-03T06:39:11.285560Z"
    },
    "papermill": {
     "duration": 0.039785,
     "end_time": "2025-09-03T06:39:11.288382",
     "exception": false,
     "start_time": "2025-09-03T06:39:11.248597",
     "status": "completed"
    },
    "tags": []
   },
   "outputs": [
    {
     "data": {
      "text/html": [
       "<div>\n",
       "<style scoped>\n",
       "    .dataframe tbody tr th:only-of-type {\n",
       "        vertical-align: middle;\n",
       "    }\n",
       "\n",
       "    .dataframe tbody tr th {\n",
       "        vertical-align: top;\n",
       "    }\n",
       "\n",
       "    .dataframe thead th {\n",
       "        text-align: right;\n",
       "    }\n",
       "</style>\n",
       "<table border=\"1\" class=\"dataframe\">\n",
       "  <thead>\n",
       "    <tr style=\"text-align: right;\">\n",
       "      <th></th>\n",
       "      <th>PassengerId</th>\n",
       "      <th>Survived</th>\n",
       "      <th>Pclass</th>\n",
       "      <th>Name</th>\n",
       "      <th>Sex</th>\n",
       "      <th>Age</th>\n",
       "      <th>SibSp</th>\n",
       "      <th>Parch</th>\n",
       "      <th>Ticket</th>\n",
       "      <th>Fare</th>\n",
       "      <th>Cabin</th>\n",
       "      <th>Embarked</th>\n",
       "    </tr>\n",
       "  </thead>\n",
       "  <tbody>\n",
       "    <tr>\n",
       "      <th>0</th>\n",
       "      <td>1</td>\n",
       "      <td>0</td>\n",
       "      <td>3</td>\n",
       "      <td>Braund, Mr. Owen Harris</td>\n",
       "      <td>male</td>\n",
       "      <td>22.0</td>\n",
       "      <td>1</td>\n",
       "      <td>0</td>\n",
       "      <td>A/5 21171</td>\n",
       "      <td>7.2500</td>\n",
       "      <td>NaN</td>\n",
       "      <td>S</td>\n",
       "    </tr>\n",
       "    <tr>\n",
       "      <th>1</th>\n",
       "      <td>2</td>\n",
       "      <td>1</td>\n",
       "      <td>1</td>\n",
       "      <td>Cumings, Mrs. John Bradley (Florence Briggs Th...</td>\n",
       "      <td>female</td>\n",
       "      <td>38.0</td>\n",
       "      <td>1</td>\n",
       "      <td>0</td>\n",
       "      <td>PC 17599</td>\n",
       "      <td>71.2833</td>\n",
       "      <td>C85</td>\n",
       "      <td>C</td>\n",
       "    </tr>\n",
       "    <tr>\n",
       "      <th>2</th>\n",
       "      <td>3</td>\n",
       "      <td>1</td>\n",
       "      <td>3</td>\n",
       "      <td>Heikkinen, Miss. Laina</td>\n",
       "      <td>female</td>\n",
       "      <td>26.0</td>\n",
       "      <td>0</td>\n",
       "      <td>0</td>\n",
       "      <td>STON/O2. 3101282</td>\n",
       "      <td>7.9250</td>\n",
       "      <td>NaN</td>\n",
       "      <td>S</td>\n",
       "    </tr>\n",
       "  </tbody>\n",
       "</table>\n",
       "</div>"
      ],
      "text/plain": [
       "   PassengerId  Survived  Pclass  \\\n",
       "0            1         0       3   \n",
       "1            2         1       1   \n",
       "2            3         1       3   \n",
       "\n",
       "                                                Name     Sex   Age  SibSp  \\\n",
       "0                            Braund, Mr. Owen Harris    male  22.0      1   \n",
       "1  Cumings, Mrs. John Bradley (Florence Briggs Th...  female  38.0      1   \n",
       "2                             Heikkinen, Miss. Laina  female  26.0      0   \n",
       "\n",
       "   Parch            Ticket     Fare Cabin Embarked  \n",
       "0      0         A/5 21171   7.2500   NaN        S  \n",
       "1      0          PC 17599  71.2833   C85        C  \n",
       "2      0  STON/O2. 3101282   7.9250   NaN        S  "
      ]
     },
     "execution_count": 3,
     "metadata": {},
     "output_type": "execute_result"
    }
   ],
   "source": [
    "df.head(3)"
   ]
  },
  {
   "cell_type": "code",
   "execution_count": 4,
   "id": "18b4d49d",
   "metadata": {
    "execution": {
     "iopub.execute_input": "2025-09-03T06:39:11.306892Z",
     "iopub.status.busy": "2025-09-03T06:39:11.306576Z",
     "iopub.status.idle": "2025-09-03T06:39:11.311947Z",
     "shell.execute_reply": "2025-09-03T06:39:11.310918Z"
    },
    "papermill": {
     "duration": 0.016144,
     "end_time": "2025-09-03T06:39:11.313407",
     "exception": false,
     "start_time": "2025-09-03T06:39:11.297263",
     "status": "completed"
    },
    "tags": []
   },
   "outputs": [],
   "source": [
    "df_org = df.copy"
   ]
  },
  {
   "cell_type": "markdown",
   "id": "7e6cc111",
   "metadata": {
    "papermill": {
     "duration": 0.007269,
     "end_time": "2025-09-03T06:39:11.328289",
     "exception": false,
     "start_time": "2025-09-03T06:39:11.321020",
     "status": "completed"
    },
    "tags": []
   },
   "source": [
    "## Filling Missing Values"
   ]
  },
  {
   "cell_type": "code",
   "execution_count": 5,
   "id": "f81fd425",
   "metadata": {
    "execution": {
     "iopub.execute_input": "2025-09-03T06:39:11.344755Z",
     "iopub.status.busy": "2025-09-03T06:39:11.344411Z",
     "iopub.status.idle": "2025-09-03T06:39:11.354543Z",
     "shell.execute_reply": "2025-09-03T06:39:11.353534Z"
    },
    "papermill": {
     "duration": 0.02061,
     "end_time": "2025-09-03T06:39:11.356265",
     "exception": false,
     "start_time": "2025-09-03T06:39:11.335655",
     "status": "completed"
    },
    "tags": []
   },
   "outputs": [
    {
     "data": {
      "text/plain": [
       "PassengerId      0\n",
       "Survived         0\n",
       "Pclass           0\n",
       "Name             0\n",
       "Sex              0\n",
       "Age            177\n",
       "SibSp            0\n",
       "Parch            0\n",
       "Ticket           0\n",
       "Fare             0\n",
       "Cabin          687\n",
       "Embarked         2\n",
       "dtype: int64"
      ]
     },
     "execution_count": 5,
     "metadata": {},
     "output_type": "execute_result"
    }
   ],
   "source": [
    "df.isna().sum()"
   ]
  },
  {
   "cell_type": "code",
   "execution_count": 6,
   "id": "e7790d0f",
   "metadata": {
    "execution": {
     "iopub.execute_input": "2025-09-03T06:39:11.373024Z",
     "iopub.status.busy": "2025-09-03T06:39:11.372731Z",
     "iopub.status.idle": "2025-09-03T06:39:11.391759Z",
     "shell.execute_reply": "2025-09-03T06:39:11.390704Z"
    },
    "papermill": {
     "duration": 0.029433,
     "end_time": "2025-09-03T06:39:11.393522",
     "exception": false,
     "start_time": "2025-09-03T06:39:11.364089",
     "status": "completed"
    },
    "tags": []
   },
   "outputs": [
    {
     "data": {
      "text/html": [
       "<div>\n",
       "<style scoped>\n",
       "    .dataframe tbody tr th:only-of-type {\n",
       "        vertical-align: middle;\n",
       "    }\n",
       "\n",
       "    .dataframe tbody tr th {\n",
       "        vertical-align: top;\n",
       "    }\n",
       "\n",
       "    .dataframe thead th {\n",
       "        text-align: right;\n",
       "    }\n",
       "</style>\n",
       "<table border=\"1\" class=\"dataframe\">\n",
       "  <thead>\n",
       "    <tr style=\"text-align: right;\">\n",
       "      <th></th>\n",
       "      <th>PassengerId</th>\n",
       "      <th>Survived</th>\n",
       "      <th>Pclass</th>\n",
       "      <th>Name</th>\n",
       "      <th>Sex</th>\n",
       "      <th>Age</th>\n",
       "      <th>SibSp</th>\n",
       "      <th>Parch</th>\n",
       "      <th>Ticket</th>\n",
       "      <th>Fare</th>\n",
       "      <th>Cabin</th>\n",
       "      <th>Embarked</th>\n",
       "      <th>titles</th>\n",
       "    </tr>\n",
       "  </thead>\n",
       "  <tbody>\n",
       "    <tr>\n",
       "      <th>0</th>\n",
       "      <td>1</td>\n",
       "      <td>0</td>\n",
       "      <td>3</td>\n",
       "      <td>Braund, Mr. Owen Harris</td>\n",
       "      <td>male</td>\n",
       "      <td>22.0</td>\n",
       "      <td>1</td>\n",
       "      <td>0</td>\n",
       "      <td>A/5 21171</td>\n",
       "      <td>7.2500</td>\n",
       "      <td>NaN</td>\n",
       "      <td>S</td>\n",
       "      <td>Mr</td>\n",
       "    </tr>\n",
       "    <tr>\n",
       "      <th>1</th>\n",
       "      <td>2</td>\n",
       "      <td>1</td>\n",
       "      <td>1</td>\n",
       "      <td>Cumings, Mrs. John Bradley (Florence Briggs Th...</td>\n",
       "      <td>female</td>\n",
       "      <td>38.0</td>\n",
       "      <td>1</td>\n",
       "      <td>0</td>\n",
       "      <td>PC 17599</td>\n",
       "      <td>71.2833</td>\n",
       "      <td>C85</td>\n",
       "      <td>C</td>\n",
       "      <td>Mrs</td>\n",
       "    </tr>\n",
       "    <tr>\n",
       "      <th>2</th>\n",
       "      <td>3</td>\n",
       "      <td>1</td>\n",
       "      <td>3</td>\n",
       "      <td>Heikkinen, Miss. Laina</td>\n",
       "      <td>female</td>\n",
       "      <td>26.0</td>\n",
       "      <td>0</td>\n",
       "      <td>0</td>\n",
       "      <td>STON/O2. 3101282</td>\n",
       "      <td>7.9250</td>\n",
       "      <td>NaN</td>\n",
       "      <td>S</td>\n",
       "      <td>Miss</td>\n",
       "    </tr>\n",
       "    <tr>\n",
       "      <th>3</th>\n",
       "      <td>4</td>\n",
       "      <td>1</td>\n",
       "      <td>1</td>\n",
       "      <td>Futrelle, Mrs. Jacques Heath (Lily May Peel)</td>\n",
       "      <td>female</td>\n",
       "      <td>35.0</td>\n",
       "      <td>1</td>\n",
       "      <td>0</td>\n",
       "      <td>113803</td>\n",
       "      <td>53.1000</td>\n",
       "      <td>C123</td>\n",
       "      <td>S</td>\n",
       "      <td>Mrs</td>\n",
       "    </tr>\n",
       "    <tr>\n",
       "      <th>4</th>\n",
       "      <td>5</td>\n",
       "      <td>0</td>\n",
       "      <td>3</td>\n",
       "      <td>Allen, Mr. William Henry</td>\n",
       "      <td>male</td>\n",
       "      <td>35.0</td>\n",
       "      <td>0</td>\n",
       "      <td>0</td>\n",
       "      <td>373450</td>\n",
       "      <td>8.0500</td>\n",
       "      <td>NaN</td>\n",
       "      <td>S</td>\n",
       "      <td>Mr</td>\n",
       "    </tr>\n",
       "  </tbody>\n",
       "</table>\n",
       "</div>"
      ],
      "text/plain": [
       "   PassengerId  Survived  Pclass  \\\n",
       "0            1         0       3   \n",
       "1            2         1       1   \n",
       "2            3         1       3   \n",
       "3            4         1       1   \n",
       "4            5         0       3   \n",
       "\n",
       "                                                Name     Sex   Age  SibSp  \\\n",
       "0                            Braund, Mr. Owen Harris    male  22.0      1   \n",
       "1  Cumings, Mrs. John Bradley (Florence Briggs Th...  female  38.0      1   \n",
       "2                             Heikkinen, Miss. Laina  female  26.0      0   \n",
       "3       Futrelle, Mrs. Jacques Heath (Lily May Peel)  female  35.0      1   \n",
       "4                           Allen, Mr. William Henry    male  35.0      0   \n",
       "\n",
       "   Parch            Ticket     Fare Cabin Embarked titles  \n",
       "0      0         A/5 21171   7.2500   NaN        S     Mr  \n",
       "1      0          PC 17599  71.2833   C85        C    Mrs  \n",
       "2      0  STON/O2. 3101282   7.9250   NaN        S   Miss  \n",
       "3      0            113803  53.1000  C123        S    Mrs  \n",
       "4      0            373450   8.0500   NaN        S     Mr  "
      ]
     },
     "execution_count": 6,
     "metadata": {},
     "output_type": "execute_result"
    }
   ],
   "source": [
    "df['titles'] = df['Name'].str.extract(' ([A-Za-z]+)\\.', expand=False)\n",
    "df.head(5)"
   ]
  },
  {
   "cell_type": "code",
   "execution_count": 7,
   "id": "daf41c8c",
   "metadata": {
    "execution": {
     "iopub.execute_input": "2025-09-03T06:39:11.410619Z",
     "iopub.status.busy": "2025-09-03T06:39:11.410318Z",
     "iopub.status.idle": "2025-09-03T06:39:11.454539Z",
     "shell.execute_reply": "2025-09-03T06:39:11.453508Z"
    },
    "papermill": {
     "duration": 0.054963,
     "end_time": "2025-09-03T06:39:11.456485",
     "exception": false,
     "start_time": "2025-09-03T06:39:11.401522",
     "status": "completed"
    },
    "tags": []
   },
   "outputs": [],
   "source": [
    "title_pclass_age = df.groupby(['titles','Pclass','Sex'])['Age'].median()\n",
    "\n",
    "for (titles,pclass,sex),age in title_pclass_age.items():\n",
    "    df.loc[(df['titles'] == titles) & (df['Pclass'] == pclass) & (df['Age'].isnull()) & (df['Sex'] == sex),'Age'] = age"
   ]
  },
  {
   "cell_type": "code",
   "execution_count": 8,
   "id": "800f3263",
   "metadata": {
    "execution": {
     "iopub.execute_input": "2025-09-03T06:39:11.474334Z",
     "iopub.status.busy": "2025-09-03T06:39:11.473966Z",
     "iopub.status.idle": "2025-09-03T06:39:11.485897Z",
     "shell.execute_reply": "2025-09-03T06:39:11.484831Z"
    },
    "papermill": {
     "duration": 0.02297,
     "end_time": "2025-09-03T06:39:11.487620",
     "exception": false,
     "start_time": "2025-09-03T06:39:11.464650",
     "status": "completed"
    },
    "tags": []
   },
   "outputs": [
    {
     "data": {
      "text/plain": [
       "Embarked\n",
       "S    646\n",
       "C    168\n",
       "Q     77\n",
       "Name: count, dtype: int64"
      ]
     },
     "execution_count": 8,
     "metadata": {},
     "output_type": "execute_result"
    }
   ],
   "source": [
    "df.loc[df['Embarked'].isnull(),'Embarked'] = 'S'\n",
    "df[\"Embarked\"].value_counts()"
   ]
  },
  {
   "cell_type": "code",
   "execution_count": 9,
   "id": "cd2c16e9",
   "metadata": {
    "execution": {
     "iopub.execute_input": "2025-09-03T06:39:11.506005Z",
     "iopub.status.busy": "2025-09-03T06:39:11.505645Z",
     "iopub.status.idle": "2025-09-03T06:39:11.512487Z",
     "shell.execute_reply": "2025-09-03T06:39:11.511265Z"
    },
    "papermill": {
     "duration": 0.018347,
     "end_time": "2025-09-03T06:39:11.514110",
     "exception": false,
     "start_time": "2025-09-03T06:39:11.495763",
     "status": "completed"
    },
    "tags": []
   },
   "outputs": [],
   "source": [
    "df = df.drop(\"Cabin\", axis=1)"
   ]
  },
  {
   "cell_type": "code",
   "execution_count": 10,
   "id": "3e10d670",
   "metadata": {
    "execution": {
     "iopub.execute_input": "2025-09-03T06:39:11.531650Z",
     "iopub.status.busy": "2025-09-03T06:39:11.531352Z",
     "iopub.status.idle": "2025-09-03T06:39:11.545900Z",
     "shell.execute_reply": "2025-09-03T06:39:11.544719Z"
    },
    "papermill": {
     "duration": 0.025352,
     "end_time": "2025-09-03T06:39:11.547579",
     "exception": false,
     "start_time": "2025-09-03T06:39:11.522227",
     "status": "completed"
    },
    "tags": []
   },
   "outputs": [
    {
     "data": {
      "text/html": [
       "<div>\n",
       "<style scoped>\n",
       "    .dataframe tbody tr th:only-of-type {\n",
       "        vertical-align: middle;\n",
       "    }\n",
       "\n",
       "    .dataframe tbody tr th {\n",
       "        vertical-align: top;\n",
       "    }\n",
       "\n",
       "    .dataframe thead th {\n",
       "        text-align: right;\n",
       "    }\n",
       "</style>\n",
       "<table border=\"1\" class=\"dataframe\">\n",
       "  <thead>\n",
       "    <tr style=\"text-align: right;\">\n",
       "      <th></th>\n",
       "      <th>PassengerId</th>\n",
       "      <th>Survived</th>\n",
       "      <th>Pclass</th>\n",
       "      <th>Name</th>\n",
       "      <th>Sex</th>\n",
       "      <th>Age</th>\n",
       "      <th>SibSp</th>\n",
       "      <th>Parch</th>\n",
       "      <th>Ticket</th>\n",
       "      <th>Fare</th>\n",
       "      <th>Embarked</th>\n",
       "      <th>titles</th>\n",
       "    </tr>\n",
       "  </thead>\n",
       "  <tbody>\n",
       "    <tr>\n",
       "      <th>0</th>\n",
       "      <td>1</td>\n",
       "      <td>0</td>\n",
       "      <td>3</td>\n",
       "      <td>Braund, Mr. Owen Harris</td>\n",
       "      <td>male</td>\n",
       "      <td>22.0</td>\n",
       "      <td>1</td>\n",
       "      <td>0</td>\n",
       "      <td>A/5 21171</td>\n",
       "      <td>7.2500</td>\n",
       "      <td>S</td>\n",
       "      <td>Mr</td>\n",
       "    </tr>\n",
       "    <tr>\n",
       "      <th>1</th>\n",
       "      <td>2</td>\n",
       "      <td>1</td>\n",
       "      <td>1</td>\n",
       "      <td>Cumings, Mrs. John Bradley (Florence Briggs Th...</td>\n",
       "      <td>female</td>\n",
       "      <td>38.0</td>\n",
       "      <td>1</td>\n",
       "      <td>0</td>\n",
       "      <td>PC 17599</td>\n",
       "      <td>71.2833</td>\n",
       "      <td>C</td>\n",
       "      <td>Mrs</td>\n",
       "    </tr>\n",
       "    <tr>\n",
       "      <th>2</th>\n",
       "      <td>3</td>\n",
       "      <td>1</td>\n",
       "      <td>3</td>\n",
       "      <td>Heikkinen, Miss. Laina</td>\n",
       "      <td>female</td>\n",
       "      <td>26.0</td>\n",
       "      <td>0</td>\n",
       "      <td>0</td>\n",
       "      <td>STON/O2. 3101282</td>\n",
       "      <td>7.9250</td>\n",
       "      <td>S</td>\n",
       "      <td>Miss</td>\n",
       "    </tr>\n",
       "    <tr>\n",
       "      <th>3</th>\n",
       "      <td>4</td>\n",
       "      <td>1</td>\n",
       "      <td>1</td>\n",
       "      <td>Futrelle, Mrs. Jacques Heath (Lily May Peel)</td>\n",
       "      <td>female</td>\n",
       "      <td>35.0</td>\n",
       "      <td>1</td>\n",
       "      <td>0</td>\n",
       "      <td>113803</td>\n",
       "      <td>53.1000</td>\n",
       "      <td>S</td>\n",
       "      <td>Mrs</td>\n",
       "    </tr>\n",
       "    <tr>\n",
       "      <th>4</th>\n",
       "      <td>5</td>\n",
       "      <td>0</td>\n",
       "      <td>3</td>\n",
       "      <td>Allen, Mr. William Henry</td>\n",
       "      <td>male</td>\n",
       "      <td>35.0</td>\n",
       "      <td>0</td>\n",
       "      <td>0</td>\n",
       "      <td>373450</td>\n",
       "      <td>8.0500</td>\n",
       "      <td>S</td>\n",
       "      <td>Mr</td>\n",
       "    </tr>\n",
       "  </tbody>\n",
       "</table>\n",
       "</div>"
      ],
      "text/plain": [
       "   PassengerId  Survived  Pclass  \\\n",
       "0            1         0       3   \n",
       "1            2         1       1   \n",
       "2            3         1       3   \n",
       "3            4         1       1   \n",
       "4            5         0       3   \n",
       "\n",
       "                                                Name     Sex   Age  SibSp  \\\n",
       "0                            Braund, Mr. Owen Harris    male  22.0      1   \n",
       "1  Cumings, Mrs. John Bradley (Florence Briggs Th...  female  38.0      1   \n",
       "2                             Heikkinen, Miss. Laina  female  26.0      0   \n",
       "3       Futrelle, Mrs. Jacques Heath (Lily May Peel)  female  35.0      1   \n",
       "4                           Allen, Mr. William Henry    male  35.0      0   \n",
       "\n",
       "   Parch            Ticket     Fare Embarked titles  \n",
       "0      0         A/5 21171   7.2500        S     Mr  \n",
       "1      0          PC 17599  71.2833        C    Mrs  \n",
       "2      0  STON/O2. 3101282   7.9250        S   Miss  \n",
       "3      0            113803  53.1000        S    Mrs  \n",
       "4      0            373450   8.0500        S     Mr  "
      ]
     },
     "execution_count": 10,
     "metadata": {},
     "output_type": "execute_result"
    }
   ],
   "source": [
    "df.head()"
   ]
  },
  {
   "cell_type": "code",
   "execution_count": 11,
   "id": "bdf24a50",
   "metadata": {
    "execution": {
     "iopub.execute_input": "2025-09-03T06:39:11.565761Z",
     "iopub.status.busy": "2025-09-03T06:39:11.565447Z",
     "iopub.status.idle": "2025-09-03T06:39:11.571682Z",
     "shell.execute_reply": "2025-09-03T06:39:11.570689Z"
    },
    "papermill": {
     "duration": 0.017126,
     "end_time": "2025-09-03T06:39:11.573358",
     "exception": false,
     "start_time": "2025-09-03T06:39:11.556232",
     "status": "completed"
    },
    "tags": []
   },
   "outputs": [],
   "source": [
    "test = test.drop(\"Cabin\", axis=1)"
   ]
  },
  {
   "cell_type": "code",
   "execution_count": 12,
   "id": "ca5c1838",
   "metadata": {
    "execution": {
     "iopub.execute_input": "2025-09-03T06:39:11.591757Z",
     "iopub.status.busy": "2025-09-03T06:39:11.591465Z",
     "iopub.status.idle": "2025-09-03T06:39:11.606295Z",
     "shell.execute_reply": "2025-09-03T06:39:11.605128Z"
    },
    "papermill": {
     "duration": 0.026593,
     "end_time": "2025-09-03T06:39:11.608204",
     "exception": false,
     "start_time": "2025-09-03T06:39:11.581611",
     "status": "completed"
    },
    "tags": []
   },
   "outputs": [
    {
     "data": {
      "text/html": [
       "<div>\n",
       "<style scoped>\n",
       "    .dataframe tbody tr th:only-of-type {\n",
       "        vertical-align: middle;\n",
       "    }\n",
       "\n",
       "    .dataframe tbody tr th {\n",
       "        vertical-align: top;\n",
       "    }\n",
       "\n",
       "    .dataframe thead th {\n",
       "        text-align: right;\n",
       "    }\n",
       "</style>\n",
       "<table border=\"1\" class=\"dataframe\">\n",
       "  <thead>\n",
       "    <tr style=\"text-align: right;\">\n",
       "      <th></th>\n",
       "      <th>PassengerId</th>\n",
       "      <th>Pclass</th>\n",
       "      <th>Name</th>\n",
       "      <th>Sex</th>\n",
       "      <th>Age</th>\n",
       "      <th>SibSp</th>\n",
       "      <th>Parch</th>\n",
       "      <th>Ticket</th>\n",
       "      <th>Fare</th>\n",
       "      <th>Embarked</th>\n",
       "      <th>titles</th>\n",
       "    </tr>\n",
       "  </thead>\n",
       "  <tbody>\n",
       "    <tr>\n",
       "      <th>0</th>\n",
       "      <td>892</td>\n",
       "      <td>3</td>\n",
       "      <td>Kelly, Mr. James</td>\n",
       "      <td>male</td>\n",
       "      <td>34.5</td>\n",
       "      <td>0</td>\n",
       "      <td>0</td>\n",
       "      <td>330911</td>\n",
       "      <td>7.8292</td>\n",
       "      <td>Q</td>\n",
       "      <td>Mr</td>\n",
       "    </tr>\n",
       "    <tr>\n",
       "      <th>1</th>\n",
       "      <td>893</td>\n",
       "      <td>3</td>\n",
       "      <td>Wilkes, Mrs. James (Ellen Needs)</td>\n",
       "      <td>female</td>\n",
       "      <td>47.0</td>\n",
       "      <td>1</td>\n",
       "      <td>0</td>\n",
       "      <td>363272</td>\n",
       "      <td>7.0000</td>\n",
       "      <td>S</td>\n",
       "      <td>Mrs</td>\n",
       "    </tr>\n",
       "    <tr>\n",
       "      <th>2</th>\n",
       "      <td>894</td>\n",
       "      <td>2</td>\n",
       "      <td>Myles, Mr. Thomas Francis</td>\n",
       "      <td>male</td>\n",
       "      <td>62.0</td>\n",
       "      <td>0</td>\n",
       "      <td>0</td>\n",
       "      <td>240276</td>\n",
       "      <td>9.6875</td>\n",
       "      <td>Q</td>\n",
       "      <td>Mr</td>\n",
       "    </tr>\n",
       "    <tr>\n",
       "      <th>3</th>\n",
       "      <td>895</td>\n",
       "      <td>3</td>\n",
       "      <td>Wirz, Mr. Albert</td>\n",
       "      <td>male</td>\n",
       "      <td>27.0</td>\n",
       "      <td>0</td>\n",
       "      <td>0</td>\n",
       "      <td>315154</td>\n",
       "      <td>8.6625</td>\n",
       "      <td>S</td>\n",
       "      <td>Mr</td>\n",
       "    </tr>\n",
       "    <tr>\n",
       "      <th>4</th>\n",
       "      <td>896</td>\n",
       "      <td>3</td>\n",
       "      <td>Hirvonen, Mrs. Alexander (Helga E Lindqvist)</td>\n",
       "      <td>female</td>\n",
       "      <td>22.0</td>\n",
       "      <td>1</td>\n",
       "      <td>1</td>\n",
       "      <td>3101298</td>\n",
       "      <td>12.2875</td>\n",
       "      <td>S</td>\n",
       "      <td>Mrs</td>\n",
       "    </tr>\n",
       "  </tbody>\n",
       "</table>\n",
       "</div>"
      ],
      "text/plain": [
       "   PassengerId  Pclass                                          Name     Sex  \\\n",
       "0          892       3                              Kelly, Mr. James    male   \n",
       "1          893       3              Wilkes, Mrs. James (Ellen Needs)  female   \n",
       "2          894       2                     Myles, Mr. Thomas Francis    male   \n",
       "3          895       3                              Wirz, Mr. Albert    male   \n",
       "4          896       3  Hirvonen, Mrs. Alexander (Helga E Lindqvist)  female   \n",
       "\n",
       "    Age  SibSp  Parch   Ticket     Fare Embarked titles  \n",
       "0  34.5      0      0   330911   7.8292        Q     Mr  \n",
       "1  47.0      1      0   363272   7.0000        S    Mrs  \n",
       "2  62.0      0      0   240276   9.6875        Q     Mr  \n",
       "3  27.0      0      0   315154   8.6625        S     Mr  \n",
       "4  22.0      1      1  3101298  12.2875        S    Mrs  "
      ]
     },
     "execution_count": 12,
     "metadata": {},
     "output_type": "execute_result"
    }
   ],
   "source": [
    "test['titles'] = test['Name'].str.extract(' ([A-Za-z]+)\\.',expand = False)\n",
    "test.head()"
   ]
  },
  {
   "cell_type": "code",
   "execution_count": 13,
   "id": "c1a6cdd9",
   "metadata": {
    "execution": {
     "iopub.execute_input": "2025-09-03T06:39:11.628030Z",
     "iopub.status.busy": "2025-09-03T06:39:11.627650Z",
     "iopub.status.idle": "2025-09-03T06:39:11.653396Z",
     "shell.execute_reply": "2025-09-03T06:39:11.652062Z"
    },
    "papermill": {
     "duration": 0.038099,
     "end_time": "2025-09-03T06:39:11.655385",
     "exception": false,
     "start_time": "2025-09-03T06:39:11.617286",
     "status": "completed"
    },
    "tags": []
   },
   "outputs": [],
   "source": [
    "title_pclass_age = test.groupby(['titles','Pclass','Sex'])['Age'].median()\n",
    "\n",
    "for (titles,pclass,sex),age in title_pclass_age.items():\n",
    "    test.loc[(test['titles'] == titles) & (test['Pclass'] == pclass) & (test['Age'].isnull()) & (test['Sex'] == sex),'Age'] = age"
   ]
  },
  {
   "cell_type": "code",
   "execution_count": 14,
   "id": "76387b7a",
   "metadata": {
    "execution": {
     "iopub.execute_input": "2025-09-03T06:39:11.743044Z",
     "iopub.status.busy": "2025-09-03T06:39:11.742731Z",
     "iopub.status.idle": "2025-09-03T06:39:11.758787Z",
     "shell.execute_reply": "2025-09-03T06:39:11.757347Z"
    },
    "papermill": {
     "duration": 0.096518,
     "end_time": "2025-09-03T06:39:11.760478",
     "exception": false,
     "start_time": "2025-09-03T06:39:11.663960",
     "status": "completed"
    },
    "tags": []
   },
   "outputs": [
    {
     "name": "stderr",
     "output_type": "stream",
     "text": [
      "/usr/local/lib/python3.11/dist-packages/pandas/io/formats/format.py:1458: RuntimeWarning: invalid value encountered in greater\n",
      "  has_large_values = (abs_vals > 1e6).any()\n",
      "/usr/local/lib/python3.11/dist-packages/pandas/io/formats/format.py:1459: RuntimeWarning: invalid value encountered in less\n",
      "  has_small_values = ((abs_vals < 10 ** (-self.digits)) & (abs_vals > 0)).any()\n",
      "/usr/local/lib/python3.11/dist-packages/pandas/io/formats/format.py:1459: RuntimeWarning: invalid value encountered in greater\n",
      "  has_small_values = ((abs_vals < 10 ** (-self.digits)) & (abs_vals > 0)).any()\n"
     ]
    },
    {
     "data": {
      "text/html": [
       "<div>\n",
       "<style scoped>\n",
       "    .dataframe tbody tr th:only-of-type {\n",
       "        vertical-align: middle;\n",
       "    }\n",
       "\n",
       "    .dataframe tbody tr th {\n",
       "        vertical-align: top;\n",
       "    }\n",
       "\n",
       "    .dataframe thead th {\n",
       "        text-align: right;\n",
       "    }\n",
       "</style>\n",
       "<table border=\"1\" class=\"dataframe\">\n",
       "  <thead>\n",
       "    <tr style=\"text-align: right;\">\n",
       "      <th></th>\n",
       "      <th>PassengerId</th>\n",
       "      <th>Pclass</th>\n",
       "      <th>Name</th>\n",
       "      <th>Sex</th>\n",
       "      <th>Age</th>\n",
       "      <th>SibSp</th>\n",
       "      <th>Parch</th>\n",
       "      <th>Ticket</th>\n",
       "      <th>Fare</th>\n",
       "      <th>Embarked</th>\n",
       "      <th>titles</th>\n",
       "    </tr>\n",
       "  </thead>\n",
       "  <tbody>\n",
       "    <tr>\n",
       "      <th>88</th>\n",
       "      <td>980</td>\n",
       "      <td>3</td>\n",
       "      <td>O'Donoghue, Ms. Bridget</td>\n",
       "      <td>female</td>\n",
       "      <td>NaN</td>\n",
       "      <td>0</td>\n",
       "      <td>0</td>\n",
       "      <td>364856</td>\n",
       "      <td>7.75</td>\n",
       "      <td>Q</td>\n",
       "      <td>Ms</td>\n",
       "    </tr>\n",
       "  </tbody>\n",
       "</table>\n",
       "</div>"
      ],
      "text/plain": [
       "    PassengerId  Pclass                     Name     Sex  Age  SibSp  Parch  \\\n",
       "88          980       3  O'Donoghue, Ms. Bridget  female  NaN      0      0   \n",
       "\n",
       "    Ticket  Fare Embarked titles  \n",
       "88  364856  7.75        Q     Ms  "
      ]
     },
     "execution_count": 14,
     "metadata": {},
     "output_type": "execute_result"
    }
   ],
   "source": [
    "test[test['Age'].isnull()]"
   ]
  },
  {
   "cell_type": "code",
   "execution_count": 15,
   "id": "fb93e21f",
   "metadata": {
    "execution": {
     "iopub.execute_input": "2025-09-03T06:39:11.779316Z",
     "iopub.status.busy": "2025-09-03T06:39:11.778986Z",
     "iopub.status.idle": "2025-09-03T06:39:11.785919Z",
     "shell.execute_reply": "2025-09-03T06:39:11.784939Z"
    },
    "papermill": {
     "duration": 0.018531,
     "end_time": "2025-09-03T06:39:11.787603",
     "exception": false,
     "start_time": "2025-09-03T06:39:11.769072",
     "status": "completed"
    },
    "tags": []
   },
   "outputs": [
    {
     "data": {
      "text/plain": [
       "29.408872901678656"
      ]
     },
     "execution_count": 15,
     "metadata": {},
     "output_type": "execute_result"
    }
   ],
   "source": [
    "test['Age'].mean()"
   ]
  },
  {
   "cell_type": "code",
   "execution_count": 16,
   "id": "9d18be9d",
   "metadata": {
    "execution": {
     "iopub.execute_input": "2025-09-03T06:39:11.806564Z",
     "iopub.status.busy": "2025-09-03T06:39:11.806277Z",
     "iopub.status.idle": "2025-09-03T06:39:11.812739Z",
     "shell.execute_reply": "2025-09-03T06:39:11.811471Z"
    },
    "papermill": {
     "duration": 0.01781,
     "end_time": "2025-09-03T06:39:11.814419",
     "exception": false,
     "start_time": "2025-09-03T06:39:11.796609",
     "status": "completed"
    },
    "tags": []
   },
   "outputs": [],
   "source": [
    "test.loc[test['Age'].isnull(),'Age'] = 29"
   ]
  },
  {
   "cell_type": "code",
   "execution_count": 17,
   "id": "ea3f3246",
   "metadata": {
    "execution": {
     "iopub.execute_input": "2025-09-03T06:39:11.834027Z",
     "iopub.status.busy": "2025-09-03T06:39:11.833751Z",
     "iopub.status.idle": "2025-09-03T06:39:11.852717Z",
     "shell.execute_reply": "2025-09-03T06:39:11.851186Z"
    },
    "papermill": {
     "duration": 0.03076,
     "end_time": "2025-09-03T06:39:11.854808",
     "exception": false,
     "start_time": "2025-09-03T06:39:11.824048",
     "status": "completed"
    },
    "tags": []
   },
   "outputs": [
    {
     "name": "stdout",
     "output_type": "stream",
     "text": [
      "<class 'pandas.core.frame.DataFrame'>\n",
      "RangeIndex: 418 entries, 0 to 417\n",
      "Data columns (total 11 columns):\n",
      " #   Column       Non-Null Count  Dtype  \n",
      "---  ------       --------------  -----  \n",
      " 0   PassengerId  418 non-null    int64  \n",
      " 1   Pclass       418 non-null    int64  \n",
      " 2   Name         418 non-null    object \n",
      " 3   Sex          418 non-null    object \n",
      " 4   Age          418 non-null    float64\n",
      " 5   SibSp        418 non-null    int64  \n",
      " 6   Parch        418 non-null    int64  \n",
      " 7   Ticket       418 non-null    object \n",
      " 8   Fare         417 non-null    float64\n",
      " 9   Embarked     418 non-null    object \n",
      " 10  titles       418 non-null    object \n",
      "dtypes: float64(2), int64(4), object(5)\n",
      "memory usage: 36.1+ KB\n"
     ]
    }
   ],
   "source": [
    "test.info()"
   ]
  },
  {
   "cell_type": "code",
   "execution_count": 18,
   "id": "aafb2344",
   "metadata": {
    "execution": {
     "iopub.execute_input": "2025-09-03T06:39:11.873882Z",
     "iopub.status.busy": "2025-09-03T06:39:11.873561Z",
     "iopub.status.idle": "2025-09-03T06:39:11.880111Z",
     "shell.execute_reply": "2025-09-03T06:39:11.879306Z"
    },
    "papermill": {
     "duration": 0.01795,
     "end_time": "2025-09-03T06:39:11.881694",
     "exception": false,
     "start_time": "2025-09-03T06:39:11.863744",
     "status": "completed"
    },
    "tags": []
   },
   "outputs": [
    {
     "data": {
      "text/plain": [
       "35.627188489208635"
      ]
     },
     "execution_count": 18,
     "metadata": {},
     "output_type": "execute_result"
    }
   ],
   "source": [
    "test['Fare'].mean()"
   ]
  },
  {
   "cell_type": "code",
   "execution_count": 19,
   "id": "0d813ca3",
   "metadata": {
    "execution": {
     "iopub.execute_input": "2025-09-03T06:39:11.901095Z",
     "iopub.status.busy": "2025-09-03T06:39:11.900758Z",
     "iopub.status.idle": "2025-09-03T06:39:11.906982Z",
     "shell.execute_reply": "2025-09-03T06:39:11.905958Z"
    },
    "papermill": {
     "duration": 0.017781,
     "end_time": "2025-09-03T06:39:11.908599",
     "exception": false,
     "start_time": "2025-09-03T06:39:11.890818",
     "status": "completed"
    },
    "tags": []
   },
   "outputs": [],
   "source": [
    "test.loc[test['Fare'].isnull(),'Fare'] = 35"
   ]
  },
  {
   "cell_type": "code",
   "execution_count": 20,
   "id": "a1155584",
   "metadata": {
    "execution": {
     "iopub.execute_input": "2025-09-03T06:39:11.929253Z",
     "iopub.status.busy": "2025-09-03T06:39:11.928912Z",
     "iopub.status.idle": "2025-09-03T06:39:11.941410Z",
     "shell.execute_reply": "2025-09-03T06:39:11.940184Z"
    },
    "papermill": {
     "duration": 0.025104,
     "end_time": "2025-09-03T06:39:11.943305",
     "exception": false,
     "start_time": "2025-09-03T06:39:11.918201",
     "status": "completed"
    },
    "tags": []
   },
   "outputs": [
    {
     "name": "stdout",
     "output_type": "stream",
     "text": [
      "<class 'pandas.core.frame.DataFrame'>\n",
      "RangeIndex: 418 entries, 0 to 417\n",
      "Data columns (total 11 columns):\n",
      " #   Column       Non-Null Count  Dtype  \n",
      "---  ------       --------------  -----  \n",
      " 0   PassengerId  418 non-null    int64  \n",
      " 1   Pclass       418 non-null    int64  \n",
      " 2   Name         418 non-null    object \n",
      " 3   Sex          418 non-null    object \n",
      " 4   Age          418 non-null    float64\n",
      " 5   SibSp        418 non-null    int64  \n",
      " 6   Parch        418 non-null    int64  \n",
      " 7   Ticket       418 non-null    object \n",
      " 8   Fare         418 non-null    float64\n",
      " 9   Embarked     418 non-null    object \n",
      " 10  titles       418 non-null    object \n",
      "dtypes: float64(2), int64(4), object(5)\n",
      "memory usage: 36.1+ KB\n"
     ]
    }
   ],
   "source": [
    "test.info()"
   ]
  },
  {
   "cell_type": "code",
   "execution_count": 21,
   "id": "87bf8968",
   "metadata": {
    "execution": {
     "iopub.execute_input": "2025-09-03T06:39:11.963195Z",
     "iopub.status.busy": "2025-09-03T06:39:11.962864Z",
     "iopub.status.idle": "2025-09-03T06:39:11.976603Z",
     "shell.execute_reply": "2025-09-03T06:39:11.975522Z"
    },
    "papermill": {
     "duration": 0.025687,
     "end_time": "2025-09-03T06:39:11.978163",
     "exception": false,
     "start_time": "2025-09-03T06:39:11.952476",
     "status": "completed"
    },
    "tags": []
   },
   "outputs": [
    {
     "name": "stdout",
     "output_type": "stream",
     "text": [
      "<class 'pandas.core.frame.DataFrame'>\n",
      "RangeIndex: 891 entries, 0 to 890\n",
      "Data columns (total 12 columns):\n",
      " #   Column       Non-Null Count  Dtype  \n",
      "---  ------       --------------  -----  \n",
      " 0   PassengerId  891 non-null    int64  \n",
      " 1   Survived     891 non-null    int64  \n",
      " 2   Pclass       891 non-null    int64  \n",
      " 3   Name         891 non-null    object \n",
      " 4   Sex          891 non-null    object \n",
      " 5   Age          891 non-null    float64\n",
      " 6   SibSp        891 non-null    int64  \n",
      " 7   Parch        891 non-null    int64  \n",
      " 8   Ticket       891 non-null    object \n",
      " 9   Fare         891 non-null    float64\n",
      " 10  Embarked     891 non-null    object \n",
      " 11  titles       891 non-null    object \n",
      "dtypes: float64(2), int64(5), object(5)\n",
      "memory usage: 83.7+ KB\n"
     ]
    }
   ],
   "source": [
    "df.info()"
   ]
  },
  {
   "cell_type": "code",
   "execution_count": 22,
   "id": "00d087f2",
   "metadata": {
    "execution": {
     "iopub.execute_input": "2025-09-03T06:39:11.997841Z",
     "iopub.status.busy": "2025-09-03T06:39:11.997578Z",
     "iopub.status.idle": "2025-09-03T06:39:12.012315Z",
     "shell.execute_reply": "2025-09-03T06:39:12.011341Z"
    },
    "papermill": {
     "duration": 0.026478,
     "end_time": "2025-09-03T06:39:12.014058",
     "exception": false,
     "start_time": "2025-09-03T06:39:11.987580",
     "status": "completed"
    },
    "tags": []
   },
   "outputs": [
    {
     "data": {
      "text/html": [
       "<div>\n",
       "<style scoped>\n",
       "    .dataframe tbody tr th:only-of-type {\n",
       "        vertical-align: middle;\n",
       "    }\n",
       "\n",
       "    .dataframe tbody tr th {\n",
       "        vertical-align: top;\n",
       "    }\n",
       "\n",
       "    .dataframe thead th {\n",
       "        text-align: right;\n",
       "    }\n",
       "</style>\n",
       "<table border=\"1\" class=\"dataframe\">\n",
       "  <thead>\n",
       "    <tr style=\"text-align: right;\">\n",
       "      <th></th>\n",
       "      <th>Survived</th>\n",
       "      <th>Pclass</th>\n",
       "      <th>Sex</th>\n",
       "      <th>Age</th>\n",
       "      <th>SibSp</th>\n",
       "      <th>Parch</th>\n",
       "      <th>Fare</th>\n",
       "      <th>Embarked</th>\n",
       "      <th>titles</th>\n",
       "    </tr>\n",
       "  </thead>\n",
       "  <tbody>\n",
       "    <tr>\n",
       "      <th>0</th>\n",
       "      <td>0</td>\n",
       "      <td>3</td>\n",
       "      <td>male</td>\n",
       "      <td>22.0</td>\n",
       "      <td>1</td>\n",
       "      <td>0</td>\n",
       "      <td>7.2500</td>\n",
       "      <td>S</td>\n",
       "      <td>Mr</td>\n",
       "    </tr>\n",
       "    <tr>\n",
       "      <th>1</th>\n",
       "      <td>1</td>\n",
       "      <td>1</td>\n",
       "      <td>female</td>\n",
       "      <td>38.0</td>\n",
       "      <td>1</td>\n",
       "      <td>0</td>\n",
       "      <td>71.2833</td>\n",
       "      <td>C</td>\n",
       "      <td>Mrs</td>\n",
       "    </tr>\n",
       "    <tr>\n",
       "      <th>2</th>\n",
       "      <td>1</td>\n",
       "      <td>3</td>\n",
       "      <td>female</td>\n",
       "      <td>26.0</td>\n",
       "      <td>0</td>\n",
       "      <td>0</td>\n",
       "      <td>7.9250</td>\n",
       "      <td>S</td>\n",
       "      <td>Miss</td>\n",
       "    </tr>\n",
       "    <tr>\n",
       "      <th>3</th>\n",
       "      <td>1</td>\n",
       "      <td>1</td>\n",
       "      <td>female</td>\n",
       "      <td>35.0</td>\n",
       "      <td>1</td>\n",
       "      <td>0</td>\n",
       "      <td>53.1000</td>\n",
       "      <td>S</td>\n",
       "      <td>Mrs</td>\n",
       "    </tr>\n",
       "    <tr>\n",
       "      <th>4</th>\n",
       "      <td>0</td>\n",
       "      <td>3</td>\n",
       "      <td>male</td>\n",
       "      <td>35.0</td>\n",
       "      <td>0</td>\n",
       "      <td>0</td>\n",
       "      <td>8.0500</td>\n",
       "      <td>S</td>\n",
       "      <td>Mr</td>\n",
       "    </tr>\n",
       "  </tbody>\n",
       "</table>\n",
       "</div>"
      ],
      "text/plain": [
       "   Survived  Pclass     Sex   Age  SibSp  Parch     Fare Embarked titles\n",
       "0         0       3    male  22.0      1      0   7.2500        S     Mr\n",
       "1         1       1  female  38.0      1      0  71.2833        C    Mrs\n",
       "2         1       3  female  26.0      0      0   7.9250        S   Miss\n",
       "3         1       1  female  35.0      1      0  53.1000        S    Mrs\n",
       "4         0       3    male  35.0      0      0   8.0500        S     Mr"
      ]
     },
     "execution_count": 22,
     "metadata": {},
     "output_type": "execute_result"
    }
   ],
   "source": [
    "df = df.drop(['PassengerId','Name','Ticket'],axis = 1)\n",
    "df.head()"
   ]
  },
  {
   "cell_type": "code",
   "execution_count": 23,
   "id": "6130d3ba",
   "metadata": {
    "execution": {
     "iopub.execute_input": "2025-09-03T06:39:12.033961Z",
     "iopub.status.busy": "2025-09-03T06:39:12.033678Z",
     "iopub.status.idle": "2025-09-03T06:39:12.041460Z",
     "shell.execute_reply": "2025-09-03T06:39:12.040328Z"
    },
    "papermill": {
     "duration": 0.019916,
     "end_time": "2025-09-03T06:39:12.043361",
     "exception": false,
     "start_time": "2025-09-03T06:39:12.023445",
     "status": "completed"
    },
    "tags": []
   },
   "outputs": [],
   "source": [
    "df['Sex'] = df['Sex'].map({'male':0,'female':1})\n",
    "test['Sex'] = test['Sex'].map({'male':0,'female':1})"
   ]
  },
  {
   "cell_type": "code",
   "execution_count": 24,
   "id": "392bb898",
   "metadata": {
    "execution": {
     "iopub.execute_input": "2025-09-03T06:39:12.063985Z",
     "iopub.status.busy": "2025-09-03T06:39:12.063616Z",
     "iopub.status.idle": "2025-09-03T06:39:13.806881Z",
     "shell.execute_reply": "2025-09-03T06:39:13.805971Z"
    },
    "papermill": {
     "duration": 1.755641,
     "end_time": "2025-09-03T06:39:13.808665",
     "exception": false,
     "start_time": "2025-09-03T06:39:12.053024",
     "status": "completed"
    },
    "tags": []
   },
   "outputs": [
    {
     "name": "stderr",
     "output_type": "stream",
     "text": [
      "/usr/local/lib/python3.11/dist-packages/sklearn/preprocessing/_encoders.py:868: FutureWarning: `sparse` was renamed to `sparse_output` in version 1.2 and will be removed in 1.4. `sparse_output` is ignored unless you leave `sparse` to its default value.\n",
      "  warnings.warn(\n"
     ]
    }
   ],
   "source": [
    "from sklearn.preprocessing import OneHotEncoder\n",
    "ohe = OneHotEncoder(drop = 'first' , sparse = False)\n",
    "ohe.fit(df[['Embarked']])\n",
    "\n",
    "train_embarked = ohe.transform(df[['Embarked']])\n",
    "test_embarked = ohe.transform(test[['Embarked']])\n",
    "\n",
    "train_embarked_df = pd.DataFrame(train_embarked, columns=ohe.get_feature_names_out(['Embarked']), index=df.index)\n",
    "test_embarked_df = pd.DataFrame(test_embarked, columns=ohe.get_feature_names_out(['Embarked']), index=test.index)\n",
    "\n",
    "df = pd.concat([df.drop('Embarked', axis=1), train_embarked_df], axis=1)\n",
    "test = pd.concat([test.drop('Embarked', axis=1), test_embarked_df], axis=1)"
   ]
  },
  {
   "cell_type": "code",
   "execution_count": 25,
   "id": "e848f8ba",
   "metadata": {
    "execution": {
     "iopub.execute_input": "2025-09-03T06:39:13.829905Z",
     "iopub.status.busy": "2025-09-03T06:39:13.829441Z",
     "iopub.status.idle": "2025-09-03T06:39:13.849341Z",
     "shell.execute_reply": "2025-09-03T06:39:13.848284Z"
    },
    "papermill": {
     "duration": 0.032625,
     "end_time": "2025-09-03T06:39:13.850915",
     "exception": false,
     "start_time": "2025-09-03T06:39:13.818290",
     "status": "completed"
    },
    "tags": []
   },
   "outputs": [
    {
     "name": "stderr",
     "output_type": "stream",
     "text": [
      "/usr/local/lib/python3.11/dist-packages/sklearn/preprocessing/_encoders.py:868: FutureWarning: `sparse` was renamed to `sparse_output` in version 1.2 and will be removed in 1.4. `sparse_output` is ignored unless you leave `sparse` to its default value.\n",
      "  warnings.warn(\n",
      "/usr/local/lib/python3.11/dist-packages/sklearn/preprocessing/_encoders.py:202: UserWarning: Found unknown categories in columns [0] during transform. These unknown categories will be encoded as all zeros\n",
      "  warnings.warn(\n"
     ]
    }
   ],
   "source": [
    "ohe = OneHotEncoder(drop = 'first',sparse = False,handle_unknown='ignore')\n",
    "ohe.fit(df[['titles']])\n",
    "train_titles = ohe.transform(df[['titles']])\n",
    "test_titles = ohe.transform(test[['titles']])\n",
    "\n",
    "train_titles_df = pd.DataFrame(train_titles , columns = ohe.get_feature_names_out(['titles']), index = df.index)\n",
    "test_titles_df = pd.DataFrame(test_titles , columns = ohe.get_feature_names_out(['titles']), index = test.index)\n",
    "\n",
    "df = pd.concat([df.drop('titles',axis = 1),train_titles_df] , axis = 1)\n",
    "test = pd.concat([test.drop('titles' , axis = 1) , test_titles_df],axis = 1)"
   ]
  },
  {
   "cell_type": "markdown",
   "id": "9b5e90d0",
   "metadata": {
    "papermill": {
     "duration": 0.00897,
     "end_time": "2025-09-03T06:39:13.869290",
     "exception": false,
     "start_time": "2025-09-03T06:39:13.860320",
     "status": "completed"
    },
    "tags": []
   },
   "source": [
    "## Numerical Features Scaling"
   ]
  },
  {
   "cell_type": "code",
   "execution_count": 26,
   "id": "19611d23",
   "metadata": {
    "execution": {
     "iopub.execute_input": "2025-09-03T06:39:13.889216Z",
     "iopub.status.busy": "2025-09-03T06:39:13.888785Z",
     "iopub.status.idle": "2025-09-03T06:39:13.901733Z",
     "shell.execute_reply": "2025-09-03T06:39:13.900338Z"
    },
    "papermill": {
     "duration": 0.024897,
     "end_time": "2025-09-03T06:39:13.903413",
     "exception": false,
     "start_time": "2025-09-03T06:39:13.878516",
     "status": "completed"
    },
    "tags": []
   },
   "outputs": [],
   "source": [
    "from sklearn.preprocessing import StandardScaler\n",
    "row = ['Age', 'Fare']\n",
    "scaler = StandardScaler()\n",
    "a = scaler.fit_transform(df[row])\n",
    "b = scaler.transform(test[row])"
   ]
  },
  {
   "cell_type": "markdown",
   "id": "e6b16c33",
   "metadata": {
    "papermill": {
     "duration": 0.009173,
     "end_time": "2025-09-03T06:39:13.921995",
     "exception": false,
     "start_time": "2025-09-03T06:39:13.912822",
     "status": "completed"
    },
    "tags": []
   },
   "source": [
    "## Model Training"
   ]
  },
  {
   "cell_type": "code",
   "execution_count": 27,
   "id": "0eba6470",
   "metadata": {
    "execution": {
     "iopub.execute_input": "2025-09-03T06:39:13.941887Z",
     "iopub.status.busy": "2025-09-03T06:39:13.941572Z",
     "iopub.status.idle": "2025-09-03T06:39:14.075304Z",
     "shell.execute_reply": "2025-09-03T06:39:14.074126Z"
    },
    "papermill": {
     "duration": 0.146144,
     "end_time": "2025-09-03T06:39:14.077384",
     "exception": false,
     "start_time": "2025-09-03T06:39:13.931240",
     "status": "completed"
    },
    "tags": []
   },
   "outputs": [],
   "source": [
    "from sklearn.model_selection import train_test_split\n",
    "y = df['Survived']\n",
    "X = df.drop('Survived', axis=1)\n",
    "features = X.columns\n",
    "\n",
    "X_train , X_test , y_train , y_test = train_test_split(X,y,test_size = 0.2 , random_state = 42)"
   ]
  },
  {
   "cell_type": "markdown",
   "id": "6141a573",
   "metadata": {
    "papermill": {
     "duration": 0.010541,
     "end_time": "2025-09-03T06:39:14.099264",
     "exception": false,
     "start_time": "2025-09-03T06:39:14.088723",
     "status": "completed"
    },
    "tags": []
   },
   "source": [
    "## 1. LOGISTIC REGRESSION"
   ]
  },
  {
   "cell_type": "code",
   "execution_count": 28,
   "id": "92937538",
   "metadata": {
    "execution": {
     "iopub.execute_input": "2025-09-03T06:39:14.120219Z",
     "iopub.status.busy": "2025-09-03T06:39:14.119742Z",
     "iopub.status.idle": "2025-09-03T06:39:16.178595Z",
     "shell.execute_reply": "2025-09-03T06:39:16.175652Z"
    },
    "papermill": {
     "duration": 2.072972,
     "end_time": "2025-09-03T06:39:16.182037",
     "exception": false,
     "start_time": "2025-09-03T06:39:14.109065",
     "status": "completed"
    },
    "tags": []
   },
   "outputs": [
    {
     "name": "stdout",
     "output_type": "stream",
     "text": [
      "LOGISTIC REGRESSION: 0.82\n"
     ]
    }
   ],
   "source": [
    "from sklearn.linear_model import LogisticRegression\n",
    "from sklearn.metrics import accuracy_score\n",
    "\n",
    "log_reg = LogisticRegression(max_iter = 1000 ,random_state = 42)\n",
    "log_reg.fit(X_train,y_train)\n",
    "\n",
    "y_pred = log_reg.predict(X_test)\n",
    "\n",
    "acc = accuracy_score(y_test, y_pred)\n",
    "print(f\"LOGISTIC REGRESSION: {acc:.2f}\")"
   ]
  },
  {
   "cell_type": "markdown",
   "id": "4a4c1103",
   "metadata": {
    "papermill": {
     "duration": 0.01509,
     "end_time": "2025-09-03T06:39:16.216060",
     "exception": false,
     "start_time": "2025-09-03T06:39:16.200970",
     "status": "completed"
    },
    "tags": []
   },
   "source": [
    "## 2. RANDOM FOREST CLASSIFIER"
   ]
  },
  {
   "cell_type": "code",
   "execution_count": 29,
   "id": "47144b22",
   "metadata": {
    "execution": {
     "iopub.execute_input": "2025-09-03T06:39:16.248550Z",
     "iopub.status.busy": "2025-09-03T06:39:16.248188Z",
     "iopub.status.idle": "2025-09-03T06:39:16.796907Z",
     "shell.execute_reply": "2025-09-03T06:39:16.795750Z"
    },
    "papermill": {
     "duration": 0.567079,
     "end_time": "2025-09-03T06:39:16.798523",
     "exception": false,
     "start_time": "2025-09-03T06:39:16.231444",
     "status": "completed"
    },
    "tags": []
   },
   "outputs": [
    {
     "name": "stdout",
     "output_type": "stream",
     "text": [
      "RANDOM FOREST CLASSIFIER: 0.84\n"
     ]
    }
   ],
   "source": [
    "from sklearn.ensemble import RandomForestClassifier\n",
    "\n",
    "rfr = RandomForestClassifier(n_estimators = 100 , random_state = 42)\n",
    "\n",
    "rfr.fit(X_train,y_train)\n",
    "y_pred = rfr.predict(X_test)\n",
    "\n",
    "acc = accuracy_score(y_test,y_pred)\n",
    "print(f\"RANDOM FOREST CLASSIFIER: {acc:.2f}\")"
   ]
  },
  {
   "cell_type": "markdown",
   "id": "900a42f2",
   "metadata": {
    "papermill": {
     "duration": 0.008878,
     "end_time": "2025-09-03T06:39:16.817078",
     "exception": false,
     "start_time": "2025-09-03T06:39:16.808200",
     "status": "completed"
    },
    "tags": []
   },
   "source": [
    "## 3. DECISION TREE CLASSIFIER"
   ]
  },
  {
   "cell_type": "code",
   "execution_count": 30,
   "id": "5490d3c0",
   "metadata": {
    "execution": {
     "iopub.execute_input": "2025-09-03T06:39:16.838405Z",
     "iopub.status.busy": "2025-09-03T06:39:16.838043Z",
     "iopub.status.idle": "2025-09-03T06:39:16.853416Z",
     "shell.execute_reply": "2025-09-03T06:39:16.851809Z"
    },
    "papermill": {
     "duration": 0.028683,
     "end_time": "2025-09-03T06:39:16.855185",
     "exception": false,
     "start_time": "2025-09-03T06:39:16.826502",
     "status": "completed"
    },
    "tags": []
   },
   "outputs": [
    {
     "name": "stdout",
     "output_type": "stream",
     "text": [
      "DECISION TREE CLASSIFIER: 0.80\n"
     ]
    }
   ],
   "source": [
    "from sklearn.tree import DecisionTreeClassifier\n",
    "from sklearn.metrics import accuracy_score\n",
    "\n",
    "tree_entropy = DecisionTreeClassifier(\n",
    "    criterion='log_loss',\n",
    "    max_depth= None,\n",
    "    min_samples_split = 2,\n",
    "    min_samples_leaf = 1,\n",
    "    random_state=42\n",
    ")\n",
    "\n",
    "tree_entropy.fit(X_train, y_train)\n",
    "\n",
    "y_pred = tree_entropy.predict(X_test)\n",
    "acc = accuracy_score(y_test, y_pred)\n",
    "\n",
    "print(f\"DECISION TREE CLASSIFIER: {acc:.2f}\")"
   ]
  },
  {
   "cell_type": "markdown",
   "id": "58d44a93",
   "metadata": {
    "papermill": {
     "duration": 0.009301,
     "end_time": "2025-09-03T06:39:16.873940",
     "exception": false,
     "start_time": "2025-09-03T06:39:16.864639",
     "status": "completed"
    },
    "tags": []
   },
   "source": [
    "## HYPERPARAMETER TUNING"
   ]
  },
  {
   "cell_type": "markdown",
   "id": "c3d95deb",
   "metadata": {
    "papermill": {
     "duration": 0.00924,
     "end_time": "2025-09-03T06:39:16.892746",
     "exception": false,
     "start_time": "2025-09-03T06:39:16.883506",
     "status": "completed"
    },
    "tags": []
   },
   "source": [
    "**1. Logistic Regression****"
   ]
  },
  {
   "cell_type": "code",
   "execution_count": 31,
   "id": "4ba20ff0",
   "metadata": {
    "execution": {
     "iopub.execute_input": "2025-09-03T06:39:16.912773Z",
     "iopub.status.busy": "2025-09-03T06:39:16.912436Z",
     "iopub.status.idle": "2025-09-03T06:39:22.963290Z",
     "shell.execute_reply": "2025-09-03T06:39:22.962215Z"
    },
    "papermill": {
     "duration": 6.0627,
     "end_time": "2025-09-03T06:39:22.964768",
     "exception": false,
     "start_time": "2025-09-03T06:39:16.902068",
     "status": "completed"
    },
    "tags": []
   },
   "outputs": [
    {
     "name": "stderr",
     "output_type": "stream",
     "text": [
      "/usr/local/lib/python3.11/dist-packages/sklearn/linear_model/_sag.py:350: ConvergenceWarning: The max_iter was reached which means the coef_ did not converge\n",
      "  warnings.warn(\n",
      "/usr/local/lib/python3.11/dist-packages/sklearn/linear_model/_sag.py:350: ConvergenceWarning: The max_iter was reached which means the coef_ did not converge\n",
      "  warnings.warn(\n",
      "/usr/local/lib/python3.11/dist-packages/sklearn/linear_model/_sag.py:350: ConvergenceWarning: The max_iter was reached which means the coef_ did not converge\n",
      "  warnings.warn(\n",
      "/usr/local/lib/python3.11/dist-packages/sklearn/linear_model/_sag.py:350: ConvergenceWarning: The max_iter was reached which means the coef_ did not converge\n",
      "  warnings.warn(\n",
      "/usr/local/lib/python3.11/dist-packages/sklearn/linear_model/_sag.py:350: ConvergenceWarning: The max_iter was reached which means the coef_ did not converge\n",
      "  warnings.warn(\n",
      "/usr/local/lib/python3.11/dist-packages/sklearn/linear_model/_sag.py:350: ConvergenceWarning: The max_iter was reached which means the coef_ did not converge\n",
      "  warnings.warn(\n",
      "/usr/local/lib/python3.11/dist-packages/sklearn/linear_model/_sag.py:350: ConvergenceWarning: The max_iter was reached which means the coef_ did not converge\n",
      "  warnings.warn(\n",
      "/usr/local/lib/python3.11/dist-packages/sklearn/linear_model/_sag.py:350: ConvergenceWarning: The max_iter was reached which means the coef_ did not converge\n",
      "  warnings.warn(\n",
      "/usr/local/lib/python3.11/dist-packages/sklearn/linear_model/_sag.py:350: ConvergenceWarning: The max_iter was reached which means the coef_ did not converge\n",
      "  warnings.warn(\n",
      "/usr/local/lib/python3.11/dist-packages/sklearn/linear_model/_sag.py:350: ConvergenceWarning: The max_iter was reached which means the coef_ did not converge\n",
      "  warnings.warn(\n",
      "/usr/local/lib/python3.11/dist-packages/sklearn/linear_model/_sag.py:350: ConvergenceWarning: The max_iter was reached which means the coef_ did not converge\n",
      "  warnings.warn(\n",
      "/usr/local/lib/python3.11/dist-packages/sklearn/linear_model/_sag.py:350: ConvergenceWarning: The max_iter was reached which means the coef_ did not converge\n",
      "  warnings.warn(\n",
      "/usr/local/lib/python3.11/dist-packages/sklearn/linear_model/_sag.py:350: ConvergenceWarning: The max_iter was reached which means the coef_ did not converge\n",
      "  warnings.warn(\n",
      "/usr/local/lib/python3.11/dist-packages/sklearn/linear_model/_sag.py:350: ConvergenceWarning: The max_iter was reached which means the coef_ did not converge\n",
      "  warnings.warn(\n",
      "/usr/local/lib/python3.11/dist-packages/sklearn/linear_model/_sag.py:350: ConvergenceWarning: The max_iter was reached which means the coef_ did not converge\n",
      "  warnings.warn(\n",
      "/usr/local/lib/python3.11/dist-packages/sklearn/linear_model/_sag.py:350: ConvergenceWarning: The max_iter was reached which means the coef_ did not converge\n",
      "  warnings.warn(\n"
     ]
    },
    {
     "name": "stdout",
     "output_type": "stream",
     "text": [
      "Best Params: {'log_reg__C': 0.1, 'log_reg__penalty': 'l2', 'log_reg__solver': 'saga'}\n",
      "Best CV Score:, 0.83\n",
      "Random Forest Classifier After Hyperparmeter Tuning : 0.81\n"
     ]
    },
    {
     "name": "stderr",
     "output_type": "stream",
     "text": [
      "/usr/local/lib/python3.11/dist-packages/sklearn/linear_model/_sag.py:350: ConvergenceWarning: The max_iter was reached which means the coef_ did not converge\n",
      "  warnings.warn(\n",
      "/usr/local/lib/python3.11/dist-packages/sklearn/linear_model/_sag.py:350: ConvergenceWarning: The max_iter was reached which means the coef_ did not converge\n",
      "  warnings.warn(\n"
     ]
    }
   ],
   "source": [
    "from sklearn.model_selection import GridSearchCV\n",
    "from sklearn.linear_model import LogisticRegression\n",
    "from sklearn.preprocessing import StandardScaler\n",
    "from sklearn.pipeline import Pipeline\n",
    "\n",
    "pipe = Pipeline([\n",
    "    (\"scaler\", StandardScaler()),\n",
    "    (\"log_reg\", LogisticRegression(solver=\"lbfgs\", max_iter=1000))\n",
    "])\n",
    "\n",
    "param_grid = {\n",
    "    \"log_reg__C\": [0.01, 0.1, 1, 10, 100],  \n",
    "    \"log_reg__penalty\": [\"l1\",\"l2\"],\n",
    "    \"log_reg__solver\": [\"liblinear\", \"saga\"]\n",
    "}\n",
    "\n",
    "grid = GridSearchCV(pipe, param_grid, cv=5, scoring=\"accuracy\", n_jobs=-1)\n",
    "grid.fit(X_train, y_train)\n",
    "\n",
    "print(\"Best Params:\", grid.best_params_)\n",
    "print(f\"Best CV Score:, {grid.best_score_:.2f}\")\n",
    "\n",
    "y_pred = grid.predict(X_test)\n",
    "A = accuracy_score(y_test, y_pred)\n",
    "print(f\"Random Forest Classifier After Hyperparmeter Tuning : {A:.2f}\")"
   ]
  },
  {
   "cell_type": "markdown",
   "id": "89a3becb",
   "metadata": {
    "papermill": {
     "duration": 0.009532,
     "end_time": "2025-09-03T06:39:22.984715",
     "exception": false,
     "start_time": "2025-09-03T06:39:22.975183",
     "status": "completed"
    },
    "tags": []
   },
   "source": [
    "**2. Random Forest Classifier**"
   ]
  },
  {
   "cell_type": "code",
   "execution_count": 32,
   "id": "6b9caff5",
   "metadata": {
    "execution": {
     "iopub.execute_input": "2025-09-03T06:39:23.006481Z",
     "iopub.status.busy": "2025-09-03T06:39:23.006066Z",
     "iopub.status.idle": "2025-09-03T06:39:42.420499Z",
     "shell.execute_reply": "2025-09-03T06:39:42.419457Z"
    },
    "papermill": {
     "duration": 19.42791,
     "end_time": "2025-09-03T06:39:42.422346",
     "exception": false,
     "start_time": "2025-09-03T06:39:22.994436",
     "status": "completed"
    },
    "tags": []
   },
   "outputs": [
    {
     "name": "stdout",
     "output_type": "stream",
     "text": [
      "Fitting 5 folds for each of 20 candidates, totalling 100 fits\n",
      "Best Parameters: {'n_estimators': 100, 'min_samples_split': 10, 'min_samples_leaf': 2, 'max_features': 'log2', 'max_depth': 20, 'bootstrap': False}\n",
      "Best CV Score : 0.84 \n",
      "Random Forest Classifier After Hyperparmeter Tuning : 0.84\n"
     ]
    }
   ],
   "source": [
    "from sklearn.ensemble import RandomForestClassifier\n",
    "from sklearn.model_selection import RandomizedSearchCV\n",
    "from sklearn.metrics import accuracy_score\n",
    "import numpy as np\n",
    "\n",
    "param_dist = {\n",
    "    'n_estimators': [100, 200, 300, 500],\n",
    "    'max_depth': [None, 10, 20, 30, 50],\n",
    "    'min_samples_split': [5, 10],\n",
    "    'min_samples_leaf': [2, 4],\n",
    "    'max_features': ['sqrt', 'log2'],\n",
    "    'bootstrap': [True, False]\n",
    "}\n",
    "\n",
    "rs = RandomizedSearchCV(\n",
    "    RandomForestClassifier(random_state=42),\n",
    "    param_distributions=param_dist,\n",
    "    n_iter=20,   \n",
    "    cv=5,\n",
    "    verbose=1,\n",
    "    n_jobs=-1,\n",
    "    random_state=42\n",
    ")\n",
    "\n",
    "model = rs.fit(X_train, y_train)\n",
    "print(\"Best Parameters:\", model.best_params_)\n",
    "print(f\"Best CV Score : {model.best_score_:.2f} \")\n",
    "\n",
    "best_model = rs.best_estimator_\n",
    "y_pred = best_model.predict(X_test)\n",
    "acc = accuracy_score(y_test, y_pred)\n",
    "print(f\"Random Forest Classifier After Hyperparmeter Tuning : {acc:.2f}\")"
   ]
  },
  {
   "cell_type": "code",
   "execution_count": 33,
   "id": "796bf1de",
   "metadata": {
    "execution": {
     "iopub.execute_input": "2025-09-03T06:39:42.444098Z",
     "iopub.status.busy": "2025-09-03T06:39:42.443780Z",
     "iopub.status.idle": "2025-09-03T06:39:42.458088Z",
     "shell.execute_reply": "2025-09-03T06:39:42.457170Z"
    },
    "papermill": {
     "duration": 0.02722,
     "end_time": "2025-09-03T06:39:42.459894",
     "exception": false,
     "start_time": "2025-09-03T06:39:42.432674",
     "status": "completed"
    },
    "tags": []
   },
   "outputs": [
    {
     "data": {
      "text/html": [
       "<style>#sk-container-id-1 {color: black;background-color: white;}#sk-container-id-1 pre{padding: 0;}#sk-container-id-1 div.sk-toggleable {background-color: white;}#sk-container-id-1 label.sk-toggleable__label {cursor: pointer;display: block;width: 100%;margin-bottom: 0;padding: 0.3em;box-sizing: border-box;text-align: center;}#sk-container-id-1 label.sk-toggleable__label-arrow:before {content: \"▸\";float: left;margin-right: 0.25em;color: #696969;}#sk-container-id-1 label.sk-toggleable__label-arrow:hover:before {color: black;}#sk-container-id-1 div.sk-estimator:hover label.sk-toggleable__label-arrow:before {color: black;}#sk-container-id-1 div.sk-toggleable__content {max-height: 0;max-width: 0;overflow: hidden;text-align: left;background-color: #f0f8ff;}#sk-container-id-1 div.sk-toggleable__content pre {margin: 0.2em;color: black;border-radius: 0.25em;background-color: #f0f8ff;}#sk-container-id-1 input.sk-toggleable__control:checked~div.sk-toggleable__content {max-height: 200px;max-width: 100%;overflow: auto;}#sk-container-id-1 input.sk-toggleable__control:checked~label.sk-toggleable__label-arrow:before {content: \"▾\";}#sk-container-id-1 div.sk-estimator input.sk-toggleable__control:checked~label.sk-toggleable__label {background-color: #d4ebff;}#sk-container-id-1 div.sk-label input.sk-toggleable__control:checked~label.sk-toggleable__label {background-color: #d4ebff;}#sk-container-id-1 input.sk-hidden--visually {border: 0;clip: rect(1px 1px 1px 1px);clip: rect(1px, 1px, 1px, 1px);height: 1px;margin: -1px;overflow: hidden;padding: 0;position: absolute;width: 1px;}#sk-container-id-1 div.sk-estimator {font-family: monospace;background-color: #f0f8ff;border: 1px dotted black;border-radius: 0.25em;box-sizing: border-box;margin-bottom: 0.5em;}#sk-container-id-1 div.sk-estimator:hover {background-color: #d4ebff;}#sk-container-id-1 div.sk-parallel-item::after {content: \"\";width: 100%;border-bottom: 1px solid gray;flex-grow: 1;}#sk-container-id-1 div.sk-label:hover label.sk-toggleable__label {background-color: #d4ebff;}#sk-container-id-1 div.sk-serial::before {content: \"\";position: absolute;border-left: 1px solid gray;box-sizing: border-box;top: 0;bottom: 0;left: 50%;z-index: 0;}#sk-container-id-1 div.sk-serial {display: flex;flex-direction: column;align-items: center;background-color: white;padding-right: 0.2em;padding-left: 0.2em;position: relative;}#sk-container-id-1 div.sk-item {position: relative;z-index: 1;}#sk-container-id-1 div.sk-parallel {display: flex;align-items: stretch;justify-content: center;background-color: white;position: relative;}#sk-container-id-1 div.sk-item::before, #sk-container-id-1 div.sk-parallel-item::before {content: \"\";position: absolute;border-left: 1px solid gray;box-sizing: border-box;top: 0;bottom: 0;left: 50%;z-index: -1;}#sk-container-id-1 div.sk-parallel-item {display: flex;flex-direction: column;z-index: 1;position: relative;background-color: white;}#sk-container-id-1 div.sk-parallel-item:first-child::after {align-self: flex-end;width: 50%;}#sk-container-id-1 div.sk-parallel-item:last-child::after {align-self: flex-start;width: 50%;}#sk-container-id-1 div.sk-parallel-item:only-child::after {width: 0;}#sk-container-id-1 div.sk-dashed-wrapped {border: 1px dashed gray;margin: 0 0.4em 0.5em 0.4em;box-sizing: border-box;padding-bottom: 0.4em;background-color: white;}#sk-container-id-1 div.sk-label label {font-family: monospace;font-weight: bold;display: inline-block;line-height: 1.2em;}#sk-container-id-1 div.sk-label-container {text-align: center;}#sk-container-id-1 div.sk-container {/* jupyter's `normalize.less` sets `[hidden] { display: none; }` but bootstrap.min.css set `[hidden] { display: none !important; }` so we also need the `!important` here to be able to override the default hidden behavior on the sphinx rendered scikit-learn.org. See: https://github.com/scikit-learn/scikit-learn/issues/21755 */display: inline-block !important;position: relative;}#sk-container-id-1 div.sk-text-repr-fallback {display: none;}</style><div id=\"sk-container-id-1\" class=\"sk-top-container\"><div class=\"sk-text-repr-fallback\"><pre>RandomForestClassifier(bootstrap=False, max_depth=20, max_features=&#x27;log2&#x27;,\n",
       "                       min_samples_leaf=2, min_samples_split=10,\n",
       "                       random_state=42)</pre><b>In a Jupyter environment, please rerun this cell to show the HTML representation or trust the notebook. <br />On GitHub, the HTML representation is unable to render, please try loading this page with nbviewer.org.</b></div><div class=\"sk-container\" hidden><div class=\"sk-item\"><div class=\"sk-estimator sk-toggleable\"><input class=\"sk-toggleable__control sk-hidden--visually\" id=\"sk-estimator-id-1\" type=\"checkbox\" checked><label for=\"sk-estimator-id-1\" class=\"sk-toggleable__label sk-toggleable__label-arrow\">RandomForestClassifier</label><div class=\"sk-toggleable__content\"><pre>RandomForestClassifier(bootstrap=False, max_depth=20, max_features=&#x27;log2&#x27;,\n",
       "                       min_samples_leaf=2, min_samples_split=10,\n",
       "                       random_state=42)</pre></div></div></div></div></div>"
      ],
      "text/plain": [
       "RandomForestClassifier(bootstrap=False, max_depth=20, max_features='log2',\n",
       "                       min_samples_leaf=2, min_samples_split=10,\n",
       "                       random_state=42)"
      ]
     },
     "execution_count": 33,
     "metadata": {},
     "output_type": "execute_result"
    }
   ],
   "source": [
    "best_model = model.best_estimator_\n",
    "best_model"
   ]
  },
  {
   "cell_type": "markdown",
   "id": "7de78060",
   "metadata": {
    "papermill": {
     "duration": 0.009946,
     "end_time": "2025-09-03T06:39:42.480815",
     "exception": false,
     "start_time": "2025-09-03T06:39:42.470869",
     "status": "completed"
    },
    "tags": []
   },
   "source": [
    "**3. Decision Tree Classifier**"
   ]
  },
  {
   "cell_type": "code",
   "execution_count": 34,
   "id": "b7a7a14e",
   "metadata": {
    "execution": {
     "iopub.execute_input": "2025-09-03T06:39:42.503082Z",
     "iopub.status.busy": "2025-09-03T06:39:42.502763Z",
     "iopub.status.idle": "2025-09-03T06:39:42.715875Z",
     "shell.execute_reply": "2025-09-03T06:39:42.714688Z"
    },
    "papermill": {
     "duration": 0.226421,
     "end_time": "2025-09-03T06:39:42.717601",
     "exception": false,
     "start_time": "2025-09-03T06:39:42.491180",
     "status": "completed"
    },
    "tags": []
   },
   "outputs": [
    {
     "name": "stdout",
     "output_type": "stream",
     "text": [
      "ADABOOST CLASSIFIER: 0.810\n"
     ]
    }
   ],
   "source": [
    "from sklearn.ensemble import AdaBoostClassifier\n",
    "\n",
    "ada = AdaBoostClassifier(\n",
    "    DecisionTreeClassifier(max_depth=1, random_state=42),\n",
    "    n_estimators=100,\n",
    "    learning_rate=0.1,\n",
    "    random_state=42\n",
    ")\n",
    "\n",
    "ada.fit(X_train, y_train)\n",
    "y_pred = ada.predict(X_test)\n",
    "\n",
    "AC = accuracy_score(y_test, y_pred)\n",
    "print(f\"ADABOOST CLASSIFIER: {AC:.3f}\")"
   ]
  },
  {
   "cell_type": "code",
   "execution_count": 35,
   "id": "906b5cf4",
   "metadata": {
    "execution": {
     "iopub.execute_input": "2025-09-03T06:39:42.740998Z",
     "iopub.status.busy": "2025-09-03T06:39:42.740672Z",
     "iopub.status.idle": "2025-09-03T06:39:42.923373Z",
     "shell.execute_reply": "2025-09-03T06:39:42.922272Z"
    },
    "papermill": {
     "duration": 0.196633,
     "end_time": "2025-09-03T06:39:42.925106",
     "exception": false,
     "start_time": "2025-09-03T06:39:42.728473",
     "status": "completed"
    },
    "tags": []
   },
   "outputs": [],
   "source": [
    "best_model.fit(X, y)\n",
    "X_final_test = test[features] \n",
    "\n",
    "final_preds = best_model.predict(X_final_test)\n",
    "\n",
    "submission = pd.DataFrame({\n",
    "    \"PassengerId\": test[\"PassengerId\"],\n",
    "    \"Survived\": final_preds\n",
    "})\n",
    "\n",
    "submission[\"Survived\"] = submission[\"Survived\"].astype(int)\n",
    "submission.to_csv(\"submission.csv\", index=False) "
   ]
  },
  {
   "cell_type": "code",
   "execution_count": 36,
   "id": "189f6dd8",
   "metadata": {
    "execution": {
     "iopub.execute_input": "2025-09-03T06:39:42.948486Z",
     "iopub.status.busy": "2025-09-03T06:39:42.948087Z",
     "iopub.status.idle": "2025-09-03T06:39:42.960224Z",
     "shell.execute_reply": "2025-09-03T06:39:42.958912Z"
    },
    "papermill": {
     "duration": 0.026271,
     "end_time": "2025-09-03T06:39:42.961975",
     "exception": false,
     "start_time": "2025-09-03T06:39:42.935704",
     "status": "completed"
    },
    "tags": []
   },
   "outputs": [
    {
     "data": {
      "text/html": [
       "<div>\n",
       "<style scoped>\n",
       "    .dataframe tbody tr th:only-of-type {\n",
       "        vertical-align: middle;\n",
       "    }\n",
       "\n",
       "    .dataframe tbody tr th {\n",
       "        vertical-align: top;\n",
       "    }\n",
       "\n",
       "    .dataframe thead th {\n",
       "        text-align: right;\n",
       "    }\n",
       "</style>\n",
       "<table border=\"1\" class=\"dataframe\">\n",
       "  <thead>\n",
       "    <tr style=\"text-align: right;\">\n",
       "      <th></th>\n",
       "      <th>PassengerId</th>\n",
       "      <th>Survived</th>\n",
       "    </tr>\n",
       "  </thead>\n",
       "  <tbody>\n",
       "    <tr>\n",
       "      <th>0</th>\n",
       "      <td>892</td>\n",
       "      <td>0</td>\n",
       "    </tr>\n",
       "    <tr>\n",
       "      <th>1</th>\n",
       "      <td>893</td>\n",
       "      <td>0</td>\n",
       "    </tr>\n",
       "    <tr>\n",
       "      <th>2</th>\n",
       "      <td>894</td>\n",
       "      <td>0</td>\n",
       "    </tr>\n",
       "    <tr>\n",
       "      <th>3</th>\n",
       "      <td>895</td>\n",
       "      <td>0</td>\n",
       "    </tr>\n",
       "    <tr>\n",
       "      <th>4</th>\n",
       "      <td>896</td>\n",
       "      <td>1</td>\n",
       "    </tr>\n",
       "    <tr>\n",
       "      <th>...</th>\n",
       "      <td>...</td>\n",
       "      <td>...</td>\n",
       "    </tr>\n",
       "    <tr>\n",
       "      <th>413</th>\n",
       "      <td>1305</td>\n",
       "      <td>0</td>\n",
       "    </tr>\n",
       "    <tr>\n",
       "      <th>414</th>\n",
       "      <td>1306</td>\n",
       "      <td>1</td>\n",
       "    </tr>\n",
       "    <tr>\n",
       "      <th>415</th>\n",
       "      <td>1307</td>\n",
       "      <td>0</td>\n",
       "    </tr>\n",
       "    <tr>\n",
       "      <th>416</th>\n",
       "      <td>1308</td>\n",
       "      <td>0</td>\n",
       "    </tr>\n",
       "    <tr>\n",
       "      <th>417</th>\n",
       "      <td>1309</td>\n",
       "      <td>1</td>\n",
       "    </tr>\n",
       "  </tbody>\n",
       "</table>\n",
       "<p>418 rows × 2 columns</p>\n",
       "</div>"
      ],
      "text/plain": [
       "     PassengerId  Survived\n",
       "0            892         0\n",
       "1            893         0\n",
       "2            894         0\n",
       "3            895         0\n",
       "4            896         1\n",
       "..           ...       ...\n",
       "413         1305         0\n",
       "414         1306         1\n",
       "415         1307         0\n",
       "416         1308         0\n",
       "417         1309         1\n",
       "\n",
       "[418 rows x 2 columns]"
      ]
     },
     "execution_count": 36,
     "metadata": {},
     "output_type": "execute_result"
    }
   ],
   "source": [
    "submission"
   ]
  },
  {
   "cell_type": "code",
   "execution_count": 37,
   "id": "2045e259",
   "metadata": {
    "execution": {
     "iopub.execute_input": "2025-09-03T06:39:42.984996Z",
     "iopub.status.busy": "2025-09-03T06:39:42.984633Z",
     "iopub.status.idle": "2025-09-03T06:39:42.990956Z",
     "shell.execute_reply": "2025-09-03T06:39:42.989918Z"
    },
    "papermill": {
     "duration": 0.019744,
     "end_time": "2025-09-03T06:39:42.992719",
     "exception": false,
     "start_time": "2025-09-03T06:39:42.972975",
     "status": "completed"
    },
    "tags": []
   },
   "outputs": [
    {
     "name": "stdout",
     "output_type": "stream",
     "text": [
      "/kaggle/working\n",
      "['submission.csv', '__notebook__.ipynb']\n"
     ]
    }
   ],
   "source": [
    "import os\n",
    "print(os.getcwd())\n",
    "print(os.listdir())"
   ]
  },
  {
   "cell_type": "code",
   "execution_count": 38,
   "id": "11219c41",
   "metadata": {
    "execution": {
     "iopub.execute_input": "2025-09-03T06:39:43.016293Z",
     "iopub.status.busy": "2025-09-03T06:39:43.015887Z",
     "iopub.status.idle": "2025-09-03T06:39:43.021581Z",
     "shell.execute_reply": "2025-09-03T06:39:43.020454Z"
    },
    "papermill": {
     "duration": 0.019316,
     "end_time": "2025-09-03T06:39:43.023078",
     "exception": false,
     "start_time": "2025-09-03T06:39:43.003762",
     "status": "completed"
    },
    "tags": []
   },
   "outputs": [
    {
     "name": "stdout",
     "output_type": "stream",
     "text": [
      "[0 0 0 0 1 0 0 0 1 0]\n",
      "418 418\n"
     ]
    }
   ],
   "source": [
    "print(final_preds[:10])\n",
    "print(len(final_preds), len(test))"
   ]
  },
  {
   "cell_type": "code",
   "execution_count": 39,
   "id": "8f71af76",
   "metadata": {
    "execution": {
     "iopub.execute_input": "2025-09-03T06:39:43.045509Z",
     "iopub.status.busy": "2025-09-03T06:39:43.045206Z",
     "iopub.status.idle": "2025-09-03T06:39:43.181416Z",
     "shell.execute_reply": "2025-09-03T06:39:43.180264Z"
    },
    "papermill": {
     "duration": 0.149724,
     "end_time": "2025-09-03T06:39:43.183509",
     "exception": false,
     "start_time": "2025-09-03T06:39:43.033785",
     "status": "completed"
    },
    "tags": []
   },
   "outputs": [
    {
     "name": "stdout",
     "output_type": "stream",
     "text": [
      "total 88\r\n",
      "---------- 1 root root 82753 Sep  3 06:39 __notebook__.ipynb\r\n",
      "-rw-r--r-- 1 root root  2839 Sep  3 06:39 submission.csv\r\n"
     ]
    }
   ],
   "source": [
    "!ls -l /kaggle/working"
   ]
  },
  {
   "cell_type": "code",
   "execution_count": null,
   "id": "daed4e68",
   "metadata": {
    "papermill": {
     "duration": 0.010149,
     "end_time": "2025-09-03T06:39:43.204639",
     "exception": false,
     "start_time": "2025-09-03T06:39:43.194490",
     "status": "completed"
    },
    "tags": []
   },
   "outputs": [],
   "source": []
  }
 ],
 "metadata": {
  "kaggle": {
   "accelerator": "none",
   "dataSources": [
    {
     "databundleVersionId": 26502,
     "sourceId": 3136,
     "sourceType": "competition"
    }
   ],
   "dockerImageVersionId": 31089,
   "isGpuEnabled": false,
   "isInternetEnabled": true,
   "language": "python",
   "sourceType": "notebook"
  },
  "kernelspec": {
   "display_name": "Python 3",
   "language": "python",
   "name": "python3"
  },
  "language_info": {
   "codemirror_mode": {
    "name": "ipython",
    "version": 3
   },
   "file_extension": ".py",
   "mimetype": "text/x-python",
   "name": "python",
   "nbconvert_exporter": "python",
   "pygments_lexer": "ipython3",
   "version": "3.11.13"
  },
  "papermill": {
   "default_parameters": {},
   "duration": 42.893688,
   "end_time": "2025-09-03T06:39:45.850277",
   "environment_variables": {},
   "exception": null,
   "input_path": "__notebook__.ipynb",
   "output_path": "__notebook__.ipynb",
   "parameters": {},
   "start_time": "2025-09-03T06:39:02.956589",
   "version": "2.6.0"
  }
 },
 "nbformat": 4,
 "nbformat_minor": 5
}
